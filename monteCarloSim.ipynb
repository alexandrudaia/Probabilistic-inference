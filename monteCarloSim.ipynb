{
 "cells": [
  {
   "cell_type": "code",
   "execution_count": 14,
   "metadata": {
    "collapsed": false
   },
   "outputs": [],
   "source": [
    "import  random\n",
    "#finite probability space for  happening  that    wil be   HEADS  ON  heads  down  SIDE  AFTER  COIN  FLIPP\n",
    "prob_space={'Up1':1/2,'Up2':1/2,'Up3':1,'Up4':1,'Up5':0}\n",
    "\n"
   ]
  },
  {
   "cell_type": "code",
   "execution_count": 34,
   "metadata": {
    "collapsed": false
   },
   "outputs": [],
   "source": [
    "import  numpy  as np\n",
    "def  sampler_finite_sample_space(finit_prob_space):\n",
    "    \"\"\"samples   1  event  drom  finit  prob space   represented as dict  and  corresponding probs\"\"\"\n",
    "    items=finit_prob_space.items()\n",
    "    #ex : space={1: 0.4, 2: 0.3, 'cat': 0.3}\n",
    "    #space.items  :dict_items([(1, 0.4), (2, 0.3), ('cat', 0.3)])\n",
    "    # it  is same thing as  we could  call     keys   or values , the  issue  is that   could  not be indexed  \n",
    "    \"\"\"so need  to      make  them  as  tuple in list \"\"\"\n",
    "    categories_probs=list(items)#brining [(1, 0.4), (2, 0.3), ('cat', 0.3)]\n",
    "    \"\"\" now must spleet  prob  cats    and  probs\"\"\"\n",
    "    cat,prob=zip(*categories_probs)\n",
    "    sample=np.random.choice(cat,p=(1/5,1/5,1/5,1/5,1/5))\n",
    "    return sample"
   ]
  },
  {
   "cell_type": "code",
   "execution_count": 39,
   "metadata": {
    "collapsed": false
   },
   "outputs": [],
   "source": [
    "def  experiment(prob_space):\n",
    "    sample=sampler_finite_sample_space(prob_space)\n",
    "    \n",
    "    if sample=='Up1'or sample=='Up2':\n",
    "        #means  we  sampled  coin 1 and    flip  it\n",
    "        if random.random()<0.5:\n",
    "            down='head'\n",
    "        else:\n",
    "            down='tail'\n",
    "    if sample=='Up3'or sample=='Up4':\n",
    "        down='head'\n",
    "    if sample=='Up5':\n",
    "        down='tail'\n",
    "    return  down\n",
    "         \n",
    "    "
   ]
  },
  {
   "cell_type": "code",
   "execution_count": 49,
   "metadata": {
    "collapsed": false
   },
   "outputs": [],
   "source": [
    "def   monte_carlo_sim(iterations,prob_space):\n",
    "    nr_head=0\n",
    "    nr_tails=0\n",
    "    for  i in range(iterations):\n",
    "        s=experiment(prob_space)\n",
    "        if s=='head':\n",
    "            nr_head=nr_head+1\n",
    "        else:\n",
    "            nr_tails=nr_tails+1\n",
    "    return  nr_head/iterations"
   ]
  },
  {
   "cell_type": "code",
   "execution_count": 58,
   "metadata": {
    "collapsed": false
   },
   "outputs": [],
   "source": [
    "prob=monte_carlo_sim(1000000,prob_space)"
   ]
  },
  {
   "cell_type": "code",
   "execution_count": 59,
   "metadata": {
    "collapsed": false
   },
   "outputs": [
    {
     "data": {
      "text/plain": [
       "0.599894"
      ]
     },
     "execution_count": 59,
     "metadata": {},
     "output_type": "execute_result"
    }
   ],
   "source": [
    "prob"
   ]
  },
  {
   "cell_type": "code",
   "execution_count": null,
   "metadata": {
    "collapsed": true
   },
   "outputs": [],
   "source": []
  }
 ],
 "metadata": {
  "kernelspec": {
   "display_name": "Python 3",
   "language": "python",
   "name": "python3"
  },
  "language_info": {
   "codemirror_mode": {
    "name": "ipython",
    "version": 3
   },
   "file_extension": ".py",
   "mimetype": "text/x-python",
   "name": "python",
   "nbconvert_exporter": "python",
   "pygments_lexer": "ipython3",
   "version": "3.5.1"
  }
 },
 "nbformat": 4,
 "nbformat_minor": 0
}
