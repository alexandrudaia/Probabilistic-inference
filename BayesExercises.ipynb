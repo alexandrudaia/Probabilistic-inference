{
 "cells": [
  {
   "cell_type": "code",
   "execution_count": 1,
   "metadata": {
    "collapsed": true
   },
   "outputs": [],
   "source": [
    "# bayes  inference"
   ]
  },
  {
   "cell_type": "markdown",
   "metadata": {},
   "source": [
    "# P(x,y)=P(X AND   Y)/P(Y)\n",
    "\n",
    "# P(X AND  Y)= P(Y) * P(X|Y)"
   ]
  },
  {
   "cell_type": "markdown",
   "metadata": {},
   "source": [
    "#bayes   stuff"
   ]
  },
  {
   "cell_type": "code",
   "execution_count": 2,
   "metadata": {
    "collapsed": true
   },
   "outputs": [],
   "source": [
    "#                   prob\n",
    "#    HEALTY         0.999\n",
    "#x=\n",
    "#    INFECTED       0.001"
   ]
  },
  {
   "cell_type": "raw",
   "metadata": {},
   "source": [
    "#  Y  IS THE      TEST  WITH 0.99 ACCURACY\n",
    "#THIS MEANS  next  prob   conditiong  table\n",
    "PY|X                     X                     \n",
    "            healty             infected\n",
    "  positive  0.01                0.99\n",
    "y  \n",
    "  neagtive  0.99                0.01"
   ]
  },
  {
   "cell_type": "raw",
   "metadata": {},
   "source": [
    "Bayes    formula\n",
    "\n",
    "             prior     likelihood  will result in unormalized  stuff\n",
    "              Px(X) *Py|x(Y|X)\n",
    "Px,y(X,Y)= ====================\n",
    "        sum(x')Px(x')*py|x(y|x')# normalization     after  that  we have a  posterior"
   ]
  },
  {
   "cell_type": "raw",
   "metadata": {},
   "source": [
    "P(X,Y)(HEALTHY , POSITIVE)=?"
   ]
  },
  {
   "cell_type": "raw",
   "metadata": {},
   "source": [
    "P(x,y)(HEALTHY , NEGATIVE)=?"
   ]
  },
  {
   "cell_type": "code",
   "execution_count": 65,
   "metadata": {
    "collapsed": true
   },
   "outputs": [],
   "source": [
    "########################################THIS IS  THE  FRAMEWORK FOR EXERCISE ####################################\n",
    "priorX={'h':0.999,'i':0.001} # WHAT    WE  THINK ABOUIT  x"
   ]
  },
  {
   "cell_type": "code",
   "execution_count": 50,
   "metadata": {
    "collapsed": false
   },
   "outputs": [],
   "source": [
    "def likelihood(y,x):\n",
    "    # some mode that   we  know    or  believe     y is  related to  x\n",
    "    if y=='p':\n",
    "        if x=='h':\n",
    "            return 0.01\n",
    "        else:\n",
    "            return 0.99\n",
    "    else:\n",
    "        \n",
    "        if x=='h':\n",
    "            return 0.99\n",
    "        else:\n",
    "            return 0.01\n",
    "###################################################################################################################"
   ]
  },
  {
   "cell_type": "code",
   "execution_count": 51,
   "metadata": {
    "collapsed": true
   },
   "outputs": [],
   "source": [
    "# Q1: What  is   prob of  X  to be healty given that  we   observer   a  new positive   "
   ]
  },
  {
   "cell_type": "code",
   "execution_count": 9,
   "metadata": {
    "collapsed": true
   },
   "outputs": [],
   "source": [
    "#STEP 1     : FOR   EACH   VALUES  OF  X   WE BELIEVED     THAT  X=x , because  we observer    y   that   we  know  \n",
    "#is  related ot  x ,   we   weight the  scor   of p(x)  by a factor   Py|x(y|x)"
   ]
  },
  {
   "cell_type": "code",
   "execution_count": 52,
   "metadata": {
    "collapsed": false
   },
   "outputs": [
    {
     "data": {
      "text/plain": [
       "0.99"
      ]
     },
     "execution_count": 52,
     "metadata": {},
     "output_type": "execute_result"
    }
   ],
   "source": [
    "#Y=positive\n",
    "factorH=likelihood('n','h')\n",
    "factorI=likelihood('n','i')\n",
    "factorH"
   ]
  },
  {
   "cell_type": "code",
   "execution_count": 53,
   "metadata": {
    "collapsed": false
   },
   "outputs": [
    {
     "data": {
      "text/plain": [
       "0.01"
      ]
     },
     "execution_count": 53,
     "metadata": {},
     "output_type": "execute_result"
    }
   ],
   "source": [
    "factorI"
   ]
  },
  {
   "cell_type": "code",
   "execution_count": 54,
   "metadata": {
    "collapsed": false
   },
   "outputs": [],
   "source": [
    "new_belief=priorX\n",
    "new_belief['h']=new_belief['h']*factorH\n",
    "new_belief['i']=new_belief['i']*factorI"
   ]
  },
  {
   "cell_type": "code",
   "execution_count": 55,
   "metadata": {
    "collapsed": false
   },
   "outputs": [
    {
     "data": {
      "text/plain": [
       "{'h': 0.98901, 'i': 1e-05}"
      ]
     },
     "execution_count": 55,
     "metadata": {},
     "output_type": "execute_result"
    }
   ],
   "source": [
    "new_belief"
   ]
  },
  {
   "cell_type": "code",
   "execution_count": 56,
   "metadata": {
    "collapsed": false
   },
   "outputs": [
    {
     "data": {
      "text/plain": [
       "0.9890199999999999"
      ]
     },
     "execution_count": 56,
     "metadata": {},
     "output_type": "execute_result"
    }
   ],
   "source": [
    "normalization=sum(new_belief.values())\n",
    "normalization"
   ]
  },
  {
   "cell_type": "code",
   "execution_count": 57,
   "metadata": {
    "collapsed": false
   },
   "outputs": [],
   "source": [
    "new_belief['h']=new_belief['h']/normalization"
   ]
  },
  {
   "cell_type": "code",
   "execution_count": 58,
   "metadata": {
    "collapsed": true
   },
   "outputs": [],
   "source": [
    "new_belief['i']=new_belief['i']/normalization"
   ]
  },
  {
   "cell_type": "code",
   "execution_count": 59,
   "metadata": {
    "collapsed": false
   },
   "outputs": [
    {
     "data": {
      "text/plain": [
       "1.0"
      ]
     },
     "execution_count": 59,
     "metadata": {},
     "output_type": "execute_result"
    }
   ],
   "source": [
    "sum(new_belief.values())"
   ]
  },
  {
   "cell_type": "code",
   "execution_count": 63,
   "metadata": {
    "collapsed": false
   },
   "outputs": [
    {
     "data": {
      "text/plain": [
       "{'h': 0.9999898889810116, 'i': 1.0111018988493663e-05}"
      ]
     },
     "execution_count": 63,
     "metadata": {},
     "output_type": "execute_result"
    }
   ],
   "source": [
    "new_belief"
   ]
  },
  {
   "cell_type": "code",
   "execution_count": 61,
   "metadata": {
    "collapsed": true
   },
   "outputs": [],
   "source": [
    "# new   belief  is the posterior   distro"
   ]
  },
  {
   "cell_type": "code",
   "execution_count": 66,
   "metadata": {
    "collapsed": false
   },
   "outputs": [
    {
     "data": {
      "text/plain": [
       "{'h': 0.999, 'i': 0.001}"
      ]
     },
     "execution_count": 66,
     "metadata": {},
     "output_type": "execute_result"
    }
   ],
   "source": [
    "priorX"
   ]
  },
  {
   "cell_type": "code",
   "execution_count": null,
   "metadata": {
    "collapsed": true
   },
   "outputs": [],
   "source": []
  }
 ],
 "metadata": {
  "kernelspec": {
   "display_name": "Python 3",
   "language": "python",
   "name": "python3"
  },
  "language_info": {
   "codemirror_mode": {
    "name": "ipython",
    "version": 3
   },
   "file_extension": ".py",
   "mimetype": "text/x-python",
   "name": "python",
   "nbconvert_exporter": "python",
   "pygments_lexer": "ipython3",
   "version": "3.5.1"
  }
 },
 "nbformat": 4,
 "nbformat_minor": 0
}
