{
 "cells": [
  {
   "cell_type": "code",
   "execution_count": 1,
   "metadata": {
    "collapsed": true
   },
   "outputs": [],
   "source": [
    "import numpy as np\n",
    "\n",
    "prob_space = {\n",
    "    ('female', 'A', 'admitted'): 0.019566946531153304,\n",
    "    ('female', 'A', 'rejected'): 0.004295183384887301,\n",
    "    ('female', 'B', 'admitted'): 0.0037560760053027007,\n",
    "    ('female', 'B', 'rejected'): 0.0017675651789660005,\n",
    "    ('female', 'C', 'admitted'): 0.044547061422890007,\n",
    "    ('female', 'C', 'rejected'): 0.086473707467962915,\n",
    "    ('female', 'D', 'admitted'): 0.028999116217410508,\n",
    "    ('female', 'D', 'rejected'): 0.053855501546619514,\n",
    "    ('female', 'E', 'admitted'): 0.020839593460008802,\n",
    "    ('female', 'E', 'rejected'): 0.065992045956694709,\n",
    "    ('female', 'F', 'admitted'): 0.0052739726027397011,\n",
    "    ('female', 'F', 'rejected'): 0.070068493150684918,\n",
    "    ('male', 'A', 'admitted'): 0.11301369863013702,\n",
    "    ('male', 'A', 'rejected'): 0.069266460450729109,\n",
    "    ('male', 'B', 'admitted'): 0.077949624392399511,\n",
    "    ('male', 'B', 'rejected'): 0.045779938135218703,\n",
    "    ('male', 'C', 'admitted'): 0.026568714096332307,\n",
    "    ('male', 'C', 'rejected'): 0.045238621299160404,\n",
    "    ('male', 'D', 'admitted'): 0.030404330534688506,\n",
    "    ('male', 'D', 'rejected'): 0.061730004418912916,\n",
    "    ('male', 'E', 'admitted'): 0.011816173221387503,\n",
    "    ('male', 'E', 'rejected'): 0.030384445426425107,\n",
    "    ('male', 'F', 'admitted'): 0.0049447635881573011,\n",
    "    ('male', 'F', 'rejected'): 0.077467962881131211\n",
    "}\n"
   ]
  },
  {
   "cell_type": "code",
   "execution_count": 2,
   "metadata": {
    "collapsed": false,
    "scrolled": true
   },
   "outputs": [
    {
     "data": {
      "text/plain": [
       "dict_values([0.004295183384887301, 0.06926646045072911, 0.07794962439239951, 0.005273972602739701, 0.0017675651789660005, 0.019566946531153304, 0.045238621299160404, 0.08647370746796292, 0.011816173221387503, 0.11301369863013702, 0.004944763588157301, 0.07006849315068492, 0.020839593460008802, 0.0037560760053027007, 0.026568714096332307, 0.04454706142289001, 0.053855501546619514, 0.061730004418912916, 0.030384445426425107, 0.07746796288113121, 0.06599204595669471, 0.028999116217410508, 0.030404330534688506, 0.045779938135218703])"
      ]
     },
     "execution_count": 2,
     "metadata": {},
     "output_type": "execute_result"
    }
   ],
   "source": [
    "prob_space.values()"
   ]
  },
  {
   "cell_type": "code",
   "execution_count": 3,
   "metadata": {
    "collapsed": false
   },
   "outputs": [
    {
     "data": {
      "text/plain": [
       "dict_keys([('female', 'A', 'rejected'), ('male', 'A', 'rejected'), ('male', 'B', 'admitted'), ('female', 'F', 'admitted'), ('female', 'B', 'rejected'), ('female', 'A', 'admitted'), ('male', 'C', 'rejected'), ('female', 'C', 'rejected'), ('male', 'E', 'admitted'), ('male', 'A', 'admitted'), ('male', 'F', 'admitted'), ('female', 'F', 'rejected'), ('female', 'E', 'admitted'), ('female', 'B', 'admitted'), ('male', 'C', 'admitted'), ('female', 'C', 'admitted'), ('female', 'D', 'rejected'), ('male', 'D', 'rejected'), ('male', 'E', 'rejected'), ('male', 'F', 'rejected'), ('female', 'E', 'rejected'), ('female', 'D', 'admitted'), ('male', 'D', 'admitted'), ('male', 'B', 'rejected')])"
      ]
     },
     "execution_count": 3,
     "metadata": {},
     "output_type": "execute_result"
    }
   ],
   "source": [
    "prob_space.keys()"
   ]
  },
  {
   "cell_type": "code",
   "execution_count": 4,
   "metadata": {
    "collapsed": true
   },
   "outputs": [],
   "source": [
    "gender_labels = ['female', 'male']  # axis 0"
   ]
  },
  {
   "cell_type": "code",
   "execution_count": 5,
   "metadata": {
    "collapsed": true
   },
   "outputs": [],
   "source": [
    "department_labels = ['A', 'B', 'C', 'D', 'E', 'F']  # axis 1"
   ]
  },
  {
   "cell_type": "code",
   "execution_count": 7,
   "metadata": {
    "collapsed": true
   },
   "outputs": [],
   "source": [
    "admission_labels = ['admitted', 'rejected'] # axis   3"
   ]
  },
  {
   "cell_type": "code",
   "execution_count": 8,
   "metadata": {
    "collapsed": true
   },
   "outputs": [],
   "source": [
    "gender_mapping = {label: index\n",
    "                  for index, label in enumerate(gender_labels)}"
   ]
  },
  {
   "cell_type": "code",
   "execution_count": 9,
   "metadata": {
    "collapsed": false
   },
   "outputs": [
    {
     "data": {
      "text/plain": [
       "{'female': 0, 'male': 1}"
      ]
     },
     "execution_count": 9,
     "metadata": {},
     "output_type": "execute_result"
    }
   ],
   "source": [
    "gender_mapping"
   ]
  },
  {
   "cell_type": "code",
   "execution_count": 10,
   "metadata": {
    "collapsed": true
   },
   "outputs": [],
   "source": [
    "department_mapping = {label: index\n",
    "                      for index, label in enumerate(department_labels)}"
   ]
  },
  {
   "cell_type": "code",
   "execution_count": 11,
   "metadata": {
    "collapsed": false
   },
   "outputs": [
    {
     "data": {
      "text/plain": [
       "{'A': 0, 'B': 1, 'C': 2, 'D': 3, 'E': 4, 'F': 5}"
      ]
     },
     "execution_count": 11,
     "metadata": {},
     "output_type": "execute_result"
    }
   ],
   "source": [
    "department_mapping"
   ]
  },
  {
   "cell_type": "code",
   "execution_count": 12,
   "metadata": {
    "collapsed": true
   },
   "outputs": [],
   "source": [
    "admission_mapping = {label: index\n",
    "                     for index, label in enumerate(admission_labels)}\n"
   ]
  },
  {
   "cell_type": "code",
   "execution_count": 13,
   "metadata": {
    "collapsed": false
   },
   "outputs": [
    {
     "data": {
      "text/plain": [
       "{'admitted': 0, 'rejected': 1}"
      ]
     },
     "execution_count": 13,
     "metadata": {},
     "output_type": "execute_result"
    }
   ],
   "source": [
    "admission_mapping"
   ]
  },
  {
   "cell_type": "code",
   "execution_count": 14,
   "metadata": {
    "collapsed": true
   },
   "outputs": [],
   "source": [
    "joint_prob_table = np.zeros((2, 6, 2))\n"
   ]
  },
  {
   "cell_type": "code",
   "execution_count": 19,
   "metadata": {
    "collapsed": false
   },
   "outputs": [],
   "source": [
    "# read information from full probability space into the joint probability table\n",
    "for gender, department, admission in prob_space:\n",
    "    joint_prob_table[gender_mapping[gender],\n",
    "                     department_mapping[department],\n",
    "                     admission_mapping[admission]] = prob_space[(gender,\n",
    "                                                                 department,\n",
    "                                                                 admission)]"
   ]
  },
  {
   "cell_type": "code",
   "execution_count": 20,
   "metadata": {
    "collapsed": false
   },
   "outputs": [
    {
     "data": {
      "text/plain": [
       "array([[[ 0.01956695,  0.00429518],\n",
       "        [ 0.00375608,  0.00176757],\n",
       "        [ 0.04454706,  0.08647371],\n",
       "        [ 0.02899912,  0.0538555 ],\n",
       "        [ 0.02083959,  0.06599205],\n",
       "        [ 0.00527397,  0.07006849]],\n",
       "\n",
       "       [[ 0.1130137 ,  0.06926646],\n",
       "        [ 0.07794962,  0.04577994],\n",
       "        [ 0.02656871,  0.04523862],\n",
       "        [ 0.03040433,  0.06173   ],\n",
       "        [ 0.01181617,  0.03038445],\n",
       "        [ 0.00494476,  0.07746796]]])"
      ]
     },
     "execution_count": 20,
     "metadata": {},
     "output_type": "execute_result"
    }
   ],
   "source": [
    "joint_prob_table"
   ]
  },
  {
   "cell_type": "code",
   "execution_count": 21,
   "metadata": {
    "collapsed": false
   },
   "outputs": [
    {
     "data": {
      "text/plain": [
       "0.044547061422890007"
      ]
     },
     "execution_count": 21,
     "metadata": {},
     "output_type": "execute_result"
    }
   ],
   "source": [
    "joint_prob_table[gender_mapping['female'], department_mapping['C'], admission_mapping['admitted']]"
   ]
  },
  {
   "cell_type": "code",
   "execution_count": 22,
   "metadata": {
    "collapsed": true
   },
   "outputs": [],
   "source": [
    "joint_prob_gender_admission = joint_prob_table.sum(axis=1)"
   ]
  },
  {
   "cell_type": "code",
   "execution_count": 25,
   "metadata": {
    "collapsed": false
   },
   "outputs": [
    {
     "data": {
      "text/plain": [
       "array([[ 0.12298277,  0.2824525 ],\n",
       "       [ 0.2646973 ,  0.32986743]])"
      ]
     },
     "execution_count": 25,
     "metadata": {},
     "output_type": "execute_result"
    }
   ],
   "source": [
    "joint_prob_gender_admission"
   ]
  },
  {
   "cell_type": "code",
   "execution_count": 26,
   "metadata": {
    "collapsed": false
   },
   "outputs": [
    {
     "data": {
      "text/plain": [
       "0.12298276623950503"
      ]
     },
     "execution_count": 26,
     "metadata": {},
     "output_type": "execute_result"
    }
   ],
   "source": [
    "joint_prob_gender_admission[gender_mapping['female'], admission_mapping['admitted']]"
   ]
  },
  {
   "cell_type": "code",
   "execution_count": null,
   "metadata": {
    "collapsed": true
   },
   "outputs": [],
   "source": []
  }
 ],
 "metadata": {
  "kernelspec": {
   "display_name": "Python 3",
   "language": "python",
   "name": "python3"
  },
  "language_info": {
   "codemirror_mode": {
    "name": "ipython",
    "version": 3
   },
   "file_extension": ".py",
   "mimetype": "text/x-python",
   "name": "python",
   "nbconvert_exporter": "python",
   "pygments_lexer": "ipython3",
   "version": "3.5.1"
  }
 },
 "nbformat": 4,
 "nbformat_minor": 0
}
