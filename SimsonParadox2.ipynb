{
 "cells": [
  {
   "cell_type": "code",
   "execution_count": 3,
   "metadata": {
    "collapsed": false
   },
   "outputs": [],
   "source": [
    "import numpy as np"
   ]
  },
  {
   "cell_type": "code",
   "execution_count": 4,
   "metadata": {
    "collapsed": true
   },
   "outputs": [],
   "source": [
    "import numpy as np\n",
    "\n",
    "prob_space = {\n",
    "    ('female', 'A', 'admitted'): 0.019566946531153304,\n",
    "    ('female', 'A', 'rejected'): 0.004295183384887301,\n",
    "    ('female', 'B', 'admitted'): 0.0037560760053027007,\n",
    "    ('female', 'B', 'rejected'): 0.0017675651789660005,\n",
    "    ('female', 'C', 'admitted'): 0.044547061422890007,\n",
    "    ('female', 'C', 'rejected'): 0.086473707467962915,\n",
    "    ('female', 'D', 'admitted'): 0.028999116217410508,\n",
    "    ('female', 'D', 'rejected'): 0.053855501546619514,\n",
    "    ('female', 'E', 'admitted'): 0.020839593460008802,\n",
    "    ('female', 'E', 'rejected'): 0.065992045956694709,\n",
    "    ('female', 'F', 'admitted'): 0.0052739726027397011,\n",
    "    ('female', 'F', 'rejected'): 0.070068493150684918,\n",
    "    ('male', 'A', 'admitted'): 0.11301369863013702,\n",
    "    ('male', 'A', 'rejected'): 0.069266460450729109,\n",
    "    ('male', 'B', 'admitted'): 0.077949624392399511,\n",
    "    ('male', 'B', 'rejected'): 0.045779938135218703,\n",
    "    ('male', 'C', 'admitted'): 0.026568714096332307,\n",
    "    ('male', 'C', 'rejected'): 0.045238621299160404,\n",
    "    ('male', 'D', 'admitted'): 0.030404330534688506,\n",
    "    ('male', 'D', 'rejected'): 0.061730004418912916,\n",
    "    ('male', 'E', 'admitted'): 0.011816173221387503,\n",
    "    ('male', 'E', 'rejected'): 0.030384445426425107,\n",
    "    ('male', 'F', 'admitted'): 0.0049447635881573011,\n",
    "    ('male', 'F', 'rejected'): 0.077467962881131211\n",
    "}\n"
   ]
  },
  {
   "cell_type": "code",
   "execution_count": 5,
   "metadata": {
    "collapsed": true
   },
   "outputs": [],
   "source": [
    "gender_labels = ['female', 'male']  # axis 0\n",
    "department_labels = ['A', 'B', 'C', 'D', 'E', 'F']  # axis 1\n",
    "admission_labels = ['admitted', 'rejected']  # axis 2\n",
    "\n",
    "gender_mapping = {label: index\n",
    "                  for index, label in enumerate(gender_labels)}\n",
    "department_mapping = {label: index\n",
    "                      for index, label in enumerate(department_labels)}\n",
    "admission_mapping = {label: index\n",
    "                     for index, label in enumerate(admission_labels)}\n",
    "\n",
    "joint_prob_table = np.zeros((2, 6, 2))\n",
    "\n",
    "# read information from full probability space into the joint probability table\n",
    "for gender, department, admission in prob_space:\n",
    "    joint_prob_table[gender_mapping[gender],\n",
    "                     department_mapping[department],\n",
    "                     admission_mapping[admission]] = prob_space[(gender,\n",
    "                                                                 department,\n",
    "                                                                 admission)]"
   ]
  },
  {
   "cell_type": "code",
   "execution_count": 6,
   "metadata": {
    "collapsed": true
   },
   "outputs": [],
   "source": [
    "#this  is conditioning  only  on  gender  and admission meaning dropping( summins  axis  w  which is  for dep)"
   ]
  },
  {
   "cell_type": "code",
   "execution_count": 7,
   "metadata": {
    "collapsed": true
   },
   "outputs": [],
   "source": [
    "#Pag\n",
    "joint_prob_gender_admission = joint_prob_table.sum(axis=1)"
   ]
  },
  {
   "cell_type": "code",
   "execution_count": 8,
   "metadata": {
    "collapsed": true
   },
   "outputs": [],
   "source": [
    "admitted_only = joint_prob_gender_admission[:, admission_mapping['admitted']]"
   ]
  },
  {
   "cell_type": "code",
   "execution_count": 9,
   "metadata": {
    "collapsed": false
   },
   "outputs": [
    {
     "data": {
      "text/plain": [
       "array([ 0.12298277,  0.2646973 ])"
      ]
     },
     "execution_count": 9,
     "metadata": {},
     "output_type": "execute_result"
    }
   ],
   "source": [
    "admitted_only"
   ]
  },
  {
   "cell_type": "code",
   "execution_count": 10,
   "metadata": {
    "collapsed": true
   },
   "outputs": [],
   "source": [
    "prob_gender_given_admitted = admitted_only / np.sum(admitted_only)"
   ]
  },
  {
   "cell_type": "code",
   "execution_count": 11,
   "metadata": {
    "collapsed": false
   },
   "outputs": [
    {
     "name": "stdout",
     "output_type": "stream",
     "text": [
      "{'male': 0.68277253453699915, 'female': 0.31722746546300079}\n"
     ]
    }
   ],
   "source": [
    "prob_gender_given_admitted_dict = dict(zip(gender_labels, prob_gender_given_admitted))\n",
    "print(prob_gender_given_admitted_dict)"
   ]
  },
  {
   "cell_type": "code",
   "execution_count": 77,
   "metadata": {
    "collapsed": true
   },
   "outputs": [],
   "source": [
    "#FEmALE DEPARTMENT\n",
    "female_and_A_only = joint_prob_table[gender_mapping['female'], department_mapping['F']]"
   ]
  },
  {
   "cell_type": "code",
   "execution_count": 78,
   "metadata": {
    "collapsed": false
   },
   "outputs": [
    {
     "data": {
      "text/plain": [
       "array([ 0.00527397,  0.07006849])"
      ]
     },
     "execution_count": 78,
     "metadata": {},
     "output_type": "execute_result"
    }
   ],
   "source": [
    "female_and_A_only"
   ]
  },
  {
   "cell_type": "code",
   "execution_count": 79,
   "metadata": {
    "collapsed": true
   },
   "outputs": [],
   "source": [
    "female_and_A_only_nporm=female_and_A_only/np.sum(female_and_A_only)"
   ]
  },
  {
   "cell_type": "code",
   "execution_count": 80,
   "metadata": {
    "collapsed": false
   },
   "outputs": [
    {
     "data": {
      "text/plain": [
       "array([ 0.07,  0.93])"
      ]
     },
     "execution_count": 80,
     "metadata": {},
     "output_type": "execute_result"
    }
   ],
   "source": [
    "female_and_A_only_nporm"
   ]
  },
  {
   "cell_type": "code",
   "execution_count": 81,
   "metadata": {
    "collapsed": false
   },
   "outputs": [],
   "source": [
    "female_only=dict(zip(admission_labels,female_and_A_only_nporm))"
   ]
  },
  {
   "cell_type": "code",
   "execution_count": 82,
   "metadata": {
    "collapsed": false
   },
   "outputs": [
    {
     "data": {
      "text/plain": [
       "{'admitted': 0.069999999999999701, 'rejected': 0.93000000000000027}"
      ]
     },
     "execution_count": 82,
     "metadata": {},
     "output_type": "execute_result"
    }
   ],
   "source": [
    "female_only"
   ]
  },
  {
   "cell_type": "code",
   "execution_count": 73,
   "metadata": {
    "collapsed": true
   },
   "outputs": [],
   "source": [
    "#MALE DEPARTMENT\n",
    "male_and_A_only = joint_prob_table[gender_mapping['male'], department_mapping['F']]"
   ]
  },
  {
   "cell_type": "code",
   "execution_count": 74,
   "metadata": {
    "collapsed": true
   },
   "outputs": [],
   "source": [
    "male_and_A_only_nporm=male_and_A_only/np.sum(male_and_A_only)"
   ]
  },
  {
   "cell_type": "code",
   "execution_count": 75,
   "metadata": {
    "collapsed": true
   },
   "outputs": [],
   "source": [
    "male_only=dict(zip(admission_labels,male_and_A_only_nporm))"
   ]
  },
  {
   "cell_type": "code",
   "execution_count": 76,
   "metadata": {
    "collapsed": false
   },
   "outputs": [
    {
     "data": {
      "text/plain": [
       "{'admitted': 0.05999999999999988, 'rejected': 0.94000000000000006}"
      ]
     },
     "execution_count": 76,
     "metadata": {},
     "output_type": "execute_result"
    }
   ],
   "source": [
    "male_only"
   ]
  },
  {
   "cell_type": "code",
   "execution_count": null,
   "metadata": {
    "collapsed": true
   },
   "outputs": [],
   "source": []
  },
  {
   "cell_type": "code",
   "execution_count": null,
   "metadata": {
    "collapsed": true
   },
   "outputs": [],
   "source": []
  }
 ],
 "metadata": {
  "kernelspec": {
   "display_name": "Python 3",
   "language": "python",
   "name": "python3"
  },
  "language_info": {
   "codemirror_mode": {
    "name": "ipython",
    "version": 3
   },
   "file_extension": ".py",
   "mimetype": "text/x-python",
   "name": "python",
   "nbconvert_exporter": "python",
   "pygments_lexer": "ipython3",
   "version": "3.5.1"
  }
 },
 "nbformat": 4,
 "nbformat_minor": 0
}
